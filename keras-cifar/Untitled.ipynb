{
 "cells": [
  {
   "cell_type": "code",
   "execution_count": null,
   "metadata": {},
   "outputs": [],
   "source": [
    "from __future__ import print_function\n",
    "import keras\n",
    "import numpy as np\n",
    "from keras.preprocessing import image\n",
    "\n",
    "from keras.datasets import cifar10\n",
    "from keras.preprocessing.image import ImageDataGenerator\n",
    "from keras.models import Sequential\n",
    "from keras.layers import Dense, Dropout, Activation, Flatten\n",
    "from keras.layers import Conv2D, MaxPooling2D\n",
    "\n",
    "\n",
    "def preprocess(img):\n",
    "    width, height = img.shape[0], img.shape[1]\n",
    "    img = image.array_to_img(img, scale=False)\n",
    "\n",
    "    # Crop 48x48px\n",
    "    desired_width, desired_height = 299, 299\n",
    "\n",
    "    #if width < desired_width:\n",
    "        #desired_width = width\n",
    "    #start_x = np.maximum(0, int((width-desired_width)/2))\n",
    "\n",
    "    #img = img.crop((start_x, np.maximum(0, height-desired_height), start_x+desired_width, height))\n",
    "    img = img.resize((299, 299))\n",
    "\n",
    "    img = image.img_to_array(img)\n",
    "    return img / 255\n",
    "\n",
    "\n",
    "(X_train, y_train), (X_test, y_test) = cifar10.load_data()\n",
    "print(X_train[0].shape)\n",
    "#z = preprocess(X_train)\n",
    "W =  np.zeros(X_train.shape[0],299,299,3)\n",
    "\n",
    "for i in range(0, X_train.shape[0]):\n",
    "    img = image.array_to_img(X_train[0], scale=False)  \n",
    "    W[i] = img.resize((299,299))\n",
    "  \n",
    "   \n",
    "#W[i] = preprocess(X_train[i])\n",
    "\n",
    "print(W[0].shape)\n",
    "\n"
   ]
  },
  {
   "cell_type": "code",
   "execution_count": null,
   "metadata": {},
   "outputs": [],
   "source": []
  },
  {
   "cell_type": "code",
   "execution_count": null,
   "metadata": {},
   "outputs": [],
   "source": []
  },
  {
   "cell_type": "code",
   "execution_count": null,
   "metadata": {},
   "outputs": [],
   "source": []
  },
  {
   "cell_type": "code",
   "execution_count": null,
   "metadata": {},
   "outputs": [],
   "source": []
  }
 ],
 "metadata": {
  "kernelspec": {
   "display_name": "Python 3",
   "language": "python",
   "name": "python3"
  },
  "language_info": {
   "codemirror_mode": {
    "name": "ipython",
    "version": 3
   },
   "file_extension": ".py",
   "mimetype": "text/x-python",
   "name": "python",
   "nbconvert_exporter": "python",
   "pygments_lexer": "ipython3",
   "version": "3.6.6"
  }
 },
 "nbformat": 4,
 "nbformat_minor": 2
}
