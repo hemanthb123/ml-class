{
 "cells": [
  {
   "cell_type": "code",
   "execution_count": 1,
   "metadata": {},
   "outputs": [
    {
     "name": "stderr",
     "output_type": "stream",
     "text": [
      "Using TensorFlow backend.\n"
     ]
    }
   ],
   "source": [
    "import os\n",
    "os.environ[\"CUDA_VISIBLE_DEVICES\"] = \"-1\"\n",
    "from keras.models import load_model\n",
    "from keras.datasets import mnist\n",
    "import matplotlib.pyplot as plt\n",
    "import numpy as np\n",
    "(X_train, _), (X_test, y_test) = mnist.load_data()"
   ]
  },
  {
   "cell_type": "code",
   "execution_count": 8,
   "metadata": {},
   "outputs": [],
   "source": [
    "denoise= load_model('auto-denoise.h5')\n",
    "#load_model('auto-denoise.h5')"
   ]
  },
  {
   "cell_type": "code",
   "execution_count": 15,
   "metadata": {},
   "outputs": [
    {
     "name": "stdout",
     "output_type": "stream",
     "text": [
      "(28, 28)\n"
     ]
    },
    {
     "data": {
      "text/plain": [
       "<matplotlib.image.AxesImage at 0x7f9d78d89ac8>"
      ]
     },
     "execution_count": 15,
     "metadata": {},
     "output_type": "execute_result"
    },
    {
     "data": {
      "image/png": "[encoded data removed]",
      "text/plain": [
       "<Figure size 432x288 with 3 Axes>"
      ]
     },
     "metadata": {
      "needs_background": "light"
     },
     "output_type": "display_data"
    }
   ],
   "source": [
    "index = 7\n",
    "original = X_test[index].astype(\"float32\") / 255.\n",
    "print(original.shape)\n",
    "#original2 = y_test[index].astype(\"float32\") / 255\n",
    "#encoding = encoder.predict(np.array([original]))[0]\n",
    "#encoding[0] = 0\n",
    "#encoding[1] = -100\n",
    "#print(encoding, y_test[index])\n",
    "\n",
    "noise_factor = 1.0\n",
    "noised_original = original + np.random.normal(loc=0.0, scale=noise_factor, size=original.shape)    \n",
    "noised_original = np.clip(noised_original, 0., 1.)\n",
    "\n",
    "plt.subplot(1,4,1)\n",
    "plt.title(\"predicted\")\n",
    "plt.imshow(denoise.predict(np.array([noised_original]))[0], cmap='gray')\n",
    "plt.subplot(1,4,2)\n",
    "plt.title(\"original\")\n",
    "plt.imshow(original, cmap='gray')\n",
    "#plt.subplot(1,4,3)\n",
    "#plt.title(\"original2\")\n",
    "#plt.imshow(original2, cmap='gray')\n",
    "plt.subplot(1,4,4)\n",
    "plt.title(\"noised_original\")\n",
    "plt.imshow(noised_original, cmap='gray')"
   ]
  },
  {
   "cell_type": "code",
   "execution_count": null,
   "metadata": {},
   "outputs": [],
   "source": []
  },
  {
   "cell_type": "code",
   "execution_count": null,
   "metadata": {},
   "outputs": [],
   "source": []
  },
  {
   "cell_type": "code",
   "execution_count": null,
   "metadata": {},
   "outputs": [],
   "source": []
  }
 ],
 "metadata": {
  "kernelspec": {
   "display_name": "Python 3",
   "language": "python",
   "name": "python3"
  },
  "language_info": {
   "codemirror_mode": {
    "name": "ipython",
    "version": 3
   },
   "file_extension": ".py",
   "mimetype": "text/x-python",
   "name": "python",
   "nbconvert_exporter": "python",
   "pygments_lexer": "ipython3",
   "version": "3.6.6"
  }
 },
 "nbformat": 4,
 "nbformat_minor": 2
}
